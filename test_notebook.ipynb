{
 "cells": [
  {
   "cell_type": "code",
   "execution_count": 1,
   "metadata": {},
   "outputs": [],
   "source": [
    "# Package to Unzip\n",
    "from pyunpack import Archive\n",
    "import os\n"
   ]
  },
  {
   "cell_type": "code",
   "execution_count": 2,
   "metadata": {},
   "outputs": [],
   "source": [
    "# Unzip the files\n",
    "Archive('DataFiles\\ELA.prz').extractall(\"./\")"
   ]
  },
  {
   "cell_type": "code",
   "execution_count": 3,
   "metadata": {},
   "outputs": [],
   "source": [
    "# Unzip the files\n",
    "Archive('DataFiles\\EelsROIMetadata of ELA (Live).prz').extractall(\"./test/\")"
   ]
  },
  {
   "cell_type": "code",
   "execution_count": 4,
   "metadata": {},
   "outputs": [],
   "source": [
    "import numpy as np\n",
    "import matplotlib.pyplot as plt"
   ]
  },
  {
   "cell_type": "code",
   "execution_count": 5,
   "metadata": {},
   "outputs": [],
   "source": [
    "data = np.load('data.npy')"
   ]
  },
  {
   "cell_type": "code",
   "execution_count": 6,
   "metadata": {},
   "outputs": [
    {
     "data": {
      "text/plain": [
       "<matplotlib.image.AxesImage at 0x1bfaa0c7d30>"
      ]
     },
     "execution_count": 6,
     "metadata": {},
     "output_type": "execute_result"
    },
    {
     "data": {
      "image/png": "[encoded data removed]",
      "text/plain": [
       "<Figure size 640x480 with 1 Axes>"
      ]
     },
     "metadata": {},
     "output_type": "display_data"
    }
   ],
   "source": [
    "plt.imshow(data)"
   ]
  },
  {
   "cell_type": "code",
   "execution_count": 7,
   "metadata": {},
   "outputs": [],
   "source": [
    "meta_data = np.load('meta_data.npy', allow_pickle=True)"
   ]
  },
  {
   "cell_type": "code",
   "execution_count": 8,
   "metadata": {},
   "outputs": [
    {
     "data": {
      "text/plain": [
       "{'camera.binning': (1, 1),\n",
       " 'camera.pixel_size': 7.5e-05,\n",
       " 'camera.time': '2022-12-08T20:39:08.612697',\n",
       " 'camera.exposure_time': 0.03,\n",
       " 'image_size': (1028, 512),\n",
       " 'camera.detector_size': (1028, 512),\n",
       " 'camera.area_offset': (0, 0),\n",
       " 'source.name': 'Dectris ELA Si 500K',\n",
       " 'source.type': 'camera',\n",
       " 'ref_size': (1028, 512),\n",
       " 'source.last_frame_info': {'series': 669,\n",
       "  'frame': 24776,\n",
       "  'start_time': 39470090967874,\n",
       "  'stop_time': 39470120969100,\n",
       "  'real_time': 30001225},\n",
       " 'source.detector_config': {'auto_summation': True,\n",
       "  'beam_center_x': 0.0,\n",
       "  'beam_center_y': 0.0,\n",
       "  'bit_depth_image': 32,\n",
       "  'bit_depth_readout': 16,\n",
       "  'compression': 'lz4',\n",
       "  'count_time': 0.03,\n",
       "  'countrate_correction_applied': True,\n",
       "  'countrate_correction_count_cutoff': 299995,\n",
       "  'data_collection_date': '2022-12-09T02:29:34.018+01:00',\n",
       "  'description': 'Dectris ELA Si 500K',\n",
       "  'detector_distance': 0.0,\n",
       "  'detector_number': 'E-01-0543',\n",
       "  'detector_readout_time': 1e-07,\n",
       "  'detector_translation': [0.0, 0.0, 0.0],\n",
       "  'eiger_fw_version': 'integration-21.4.14.36959-gfdccd2c2f',\n",
       "  'flatfield_correction_applied': True,\n",
       "  'frame_count_time': 0.003336666666666666,\n",
       "  'frame_period': 0.003336666666666666,\n",
       "  'frame_time': 0.0300001,\n",
       "  'nimages': 20159932,\n",
       "  'ntrigger': 1,\n",
       "  'number_of_excluded_pixels': 11,\n",
       "  'photon_energy': 200000.0,\n",
       "  'pixel_mask_applied': False,\n",
       "  'roi_mode': '',\n",
       "  'sensor_material': 'Si',\n",
       "  'sensor_thickness': 0.00045,\n",
       "  'software_version': '1.8.0',\n",
       "  'trigger_mode': 'ints',\n",
       "  'virtual_pixel_correction_applied': True,\n",
       "  'x_pixel_size': 7.5e-05,\n",
       "  'x_pixels_in_detector': 1028,\n",
       "  'y_pixel_size': 7.5e-05,\n",
       "  'y_pixels_in_detector': 512},\n",
       " 'source.geometry': 2,\n",
       " 'type': '2D',\n",
       " 'electron_gun.voltage': 200000,\n",
       " 'electron_gun.voltage_offset': 0.0,\n",
       " 'condenser.mode': 'STEM',\n",
       " 'objective.mode': 'MAG',\n",
       " 'projector.camera_length': 0.02,\n",
       " 'projector.mode': 'SMMAG',\n",
       " 'scan_driver.magnification': 1000000,\n",
       " 'scan_driver.magnification_reference': 0.1439736927650396,\n",
       " 'filter.zlp_xpos': 0.0,\n",
       " 'filter.dispersion': 3.1e-05,\n",
       " 'filter.spectrum_height': 2.555904,\n",
       " 'filter.mode': 'EELS',\n",
       " 'filter.aperture': '2 mm',\n",
       " 'filter.energy_offset': 799.8176140360313,\n",
       " 'filter.ht_offset': 0.0,\n",
       " 'filter.lt_voltage': 0.0,\n",
       " 'filter.sector_offset': 799.8176140360313,\n",
       " 'filter.slit.mode': 'open',\n",
       " 'camera.magnification_factor': 1.6666717488077454,\n",
       " 'camera.camera_length_factor': 1.6179928098202592,\n",
       " 'repo_id': 'ELA (Live).502822',\n",
       " 'device.calib': [{'name': 'Energy',\n",
       "   'value': 2.419354838709677,\n",
       "   'unit': 'eV',\n",
       "   'use_prefix': True,\n",
       "   'offset': -843.5912804682264,\n",
       "   'pixel_factor': 1,\n",
       "   'fixed_prefix': None},\n",
       "  None,\n",
       "  None]}"
      ]
     },
     "execution_count": 8,
     "metadata": {},
     "output_type": "execute_result"
    }
   ],
   "source": [
    "meta_data[0]"
   ]
  },
  {
   "cell_type": "code",
   "execution_count": 9,
   "metadata": {},
   "outputs": [],
   "source": [
    "data_model = np.load('data_model.npy', allow_pickle=True)"
   ]
  },
  {
   "cell_type": "code",
   "execution_count": 10,
   "metadata": {},
   "outputs": [
    {
     "data": {
      "text/plain": [
       "{'objects': [{'type': 'Scaling',\n",
       "   'inplace': False,\n",
       "   'parameters': {'calibration_rules': ['Energy', 'Pixel'],\n",
       "    'intensity_rule': 'Default'}},\n",
       "  {'type': 'EelsROIMetadata',\n",
       "   'inplace': False,\n",
       "   'id': 1908382025904,\n",
       "   'parameters': {'name': '__GENERIC__',\n",
       "    'fast_slice': True,\n",
       "    'halfwidth': 0.125,\n",
       "    'mode': 'live',\n",
       "    'color': '#ffffff',\n",
       "    'line width': 1.0,\n",
       "    'normalize': True,\n",
       "    'pre-edge': (None, None),\n",
       "    'post-edge': (None, None),\n",
       "    'bg-mode': 'fastlsq',\n",
       "    'y_pos': (0, 0.5)},\n",
       "   'annotations': []},\n",
       "  {'type': 'EelsROIMetadata',\n",
       "   'inplace': False,\n",
       "   'id': 1908338087536,\n",
       "   'parameters': {'name': '__GENERIC__',\n",
       "    'fast_slice': True,\n",
       "    'halfwidth': 0.125,\n",
       "    'mode': 'live',\n",
       "    'color': '#ffffff',\n",
       "    'line width': 1.0,\n",
       "    'normalize': True,\n",
       "    'pre-edge': (None, None),\n",
       "    'post-edge': (None, None),\n",
       "    'bg-mode': 'fastlsq',\n",
       "    'y_pos': (0, 0.5)},\n",
       "   'annotations': []},\n",
       "  {'type': 'EelsROIMetadata',\n",
       "   'inplace': False,\n",
       "   'id': 1908290524064,\n",
       "   'parameters': {'name': '__GENERIC__',\n",
       "    'fast_slice': True,\n",
       "    'halfwidth': 0.125,\n",
       "    'mode': 'live',\n",
       "    'color': '#ffffff',\n",
       "    'line width': 1.0,\n",
       "    'normalize': True,\n",
       "    'pre-edge': (None, None),\n",
       "    'post-edge': (None, None),\n",
       "    'bg-mode': 'fastlsq',\n",
       "    'y_pos': (0, 0.5)},\n",
       "   'annotations': []},\n",
       "  {'type': 'DisplayControl',\n",
       "   'inplace': False,\n",
       "   'parameters': {'brightness': 0.5,\n",
       "    'contrast': 0.5,\n",
       "    'gamma': 0.5,\n",
       "    'levels': (0.0, 2703.9950000001118),\n",
       "    'save_histogram': False,\n",
       "    'auto_contrast': True,\n",
       "    'auto_y_range': True,\n",
       "    'lower_fraction': 0.1,\n",
       "    'upper_fraction': 0.1,\n",
       "    'color_map': 'grey',\n",
       "    'scalar': 'Re',\n",
       "    'scalar_scale': 1000.0,\n",
       "    'slice_low': 0,\n",
       "    'slice_high': 0,\n",
       "    'auto index': True,\n",
       "    'export_output': False}}],\n",
       " 'active': True,\n",
       " 'id': 0,\n",
       " 'is_group': False,\n",
       " 'view_state': {'targetRange': [[0.0, 1028.0], [0.0, 512.0]],\n",
       "  'viewRange': [[0.0, 1028.0], [-0.5, 512.5]],\n",
       "  'yInverted': True,\n",
       "  'xInverted': False,\n",
       "  'aspectLocked': 1,\n",
       "  'autoRange': [False, False],\n",
       "  'autoPan': [False, False],\n",
       "  'autoVisibleOnly': [False, False],\n",
       "  'linkedViews': [None, None],\n",
       "  'mouseEnabled': [True, True],\n",
       "  'mouseMode': 3,\n",
       "  'enableMenu': True,\n",
       "  'wheelScaleFactor': -0.125,\n",
       "  'background': '#000000',\n",
       "  'limits': {'xLimits': [None, None],\n",
       "   'yLimits': [None, None],\n",
       "   'xRange': [None, None],\n",
       "   'yRange': [None, None]},\n",
       "  'scalingCenterX': None,\n",
       "  'scalingCenterY': None,\n",
       "  'draggingXAllowed': True,\n",
       "  'draggingYAllowed': True,\n",
       "  'suggestedXPadding': 0,\n",
       "  'suggestedYPadding': 0},\n",
       " 'type': '2D'}"
      ]
     },
     "execution_count": 10,
     "metadata": {},
     "output_type": "execute_result"
    }
   ],
   "source": [
    "data_model[0]"
   ]
  },
  {
   "cell_type": "code",
   "execution_count": 11,
   "metadata": {},
   "outputs": [],
   "source": [
    "file_format_versions = np.load('data_model.npy', allow_pickle=True)"
   ]
  },
  {
   "cell_type": "code",
   "execution_count": 12,
   "metadata": {},
   "outputs": [
    {
     "data": {
      "text/plain": [
       "{'objects': [{'type': 'Scaling',\n",
       "   'inplace': False,\n",
       "   'parameters': {'calibration_rules': ['Energy', 'Pixel'],\n",
       "    'intensity_rule': 'Default'}},\n",
       "  {'type': 'EelsROIMetadata',\n",
       "   'inplace': False,\n",
       "   'id': 1908382025904,\n",
       "   'parameters': {'name': '__GENERIC__',\n",
       "    'fast_slice': True,\n",
       "    'halfwidth': 0.125,\n",
       "    'mode': 'live',\n",
       "    'color': '#ffffff',\n",
       "    'line width': 1.0,\n",
       "    'normalize': True,\n",
       "    'pre-edge': (None, None),\n",
       "    'post-edge': (None, None),\n",
       "    'bg-mode': 'fastlsq',\n",
       "    'y_pos': (0, 0.5)},\n",
       "   'annotations': []},\n",
       "  {'type': 'EelsROIMetadata',\n",
       "   'inplace': False,\n",
       "   'id': 1908338087536,\n",
       "   'parameters': {'name': '__GENERIC__',\n",
       "    'fast_slice': True,\n",
       "    'halfwidth': 0.125,\n",
       "    'mode': 'live',\n",
       "    'color': '#ffffff',\n",
       "    'line width': 1.0,\n",
       "    'normalize': True,\n",
       "    'pre-edge': (None, None),\n",
       "    'post-edge': (None, None),\n",
       "    'bg-mode': 'fastlsq',\n",
       "    'y_pos': (0, 0.5)},\n",
       "   'annotations': []},\n",
       "  {'type': 'EelsROIMetadata',\n",
       "   'inplace': False,\n",
       "   'id': 1908290524064,\n",
       "   'parameters': {'name': '__GENERIC__',\n",
       "    'fast_slice': True,\n",
       "    'halfwidth': 0.125,\n",
       "    'mode': 'live',\n",
       "    'color': '#ffffff',\n",
       "    'line width': 1.0,\n",
       "    'normalize': True,\n",
       "    'pre-edge': (None, None),\n",
       "    'post-edge': (None, None),\n",
       "    'bg-mode': 'fastlsq',\n",
       "    'y_pos': (0, 0.5)},\n",
       "   'annotations': []},\n",
       "  {'type': 'DisplayControl',\n",
       "   'inplace': False,\n",
       "   'parameters': {'brightness': 0.5,\n",
       "    'contrast': 0.5,\n",
       "    'gamma': 0.5,\n",
       "    'levels': (0.0, 2703.9950000001118),\n",
       "    'save_histogram': False,\n",
       "    'auto_contrast': True,\n",
       "    'auto_y_range': True,\n",
       "    'lower_fraction': 0.1,\n",
       "    'upper_fraction': 0.1,\n",
       "    'color_map': 'grey',\n",
       "    'scalar': 'Re',\n",
       "    'scalar_scale': 1000.0,\n",
       "    'slice_low': 0,\n",
       "    'slice_high': 0,\n",
       "    'auto index': True,\n",
       "    'export_output': False}}],\n",
       " 'active': True,\n",
       " 'id': 0,\n",
       " 'is_group': False,\n",
       " 'view_state': {'targetRange': [[0.0, 1028.0], [0.0, 512.0]],\n",
       "  'viewRange': [[0.0, 1028.0], [-0.5, 512.5]],\n",
       "  'yInverted': True,\n",
       "  'xInverted': False,\n",
       "  'aspectLocked': 1,\n",
       "  'autoRange': [False, False],\n",
       "  'autoPan': [False, False],\n",
       "  'autoVisibleOnly': [False, False],\n",
       "  'linkedViews': [None, None],\n",
       "  'mouseEnabled': [True, True],\n",
       "  'mouseMode': 3,\n",
       "  'enableMenu': True,\n",
       "  'wheelScaleFactor': -0.125,\n",
       "  'background': '#000000',\n",
       "  'limits': {'xLimits': [None, None],\n",
       "   'yLimits': [None, None],\n",
       "   'xRange': [None, None],\n",
       "   'yRange': [None, None]},\n",
       "  'scalingCenterX': None,\n",
       "  'scalingCenterY': None,\n",
       "  'draggingXAllowed': True,\n",
       "  'draggingYAllowed': True,\n",
       "  'suggestedXPadding': 0,\n",
       "  'suggestedYPadding': 0},\n",
       " 'type': '2D'}"
      ]
     },
     "execution_count": 12,
     "metadata": {},
     "output_type": "execute_result"
    }
   ],
   "source": [
    "file_format_versions[0]"
   ]
  },
  {
   "cell_type": "code",
   "execution_count": 13,
   "metadata": {},
   "outputs": [
    {
     "data": {
      "text/plain": [
       "array([ True])"
      ]
     },
     "execution_count": 13,
     "metadata": {},
     "output_type": "execute_result"
    }
   ],
   "source": [
    "## note the data model and file format are the same\n",
    "data_model == file_format_versions"
   ]
  },
  {
   "cell_type": "code",
   "execution_count": 14,
   "metadata": {},
   "outputs": [],
   "source": [
    "class file_handling:\n",
    "    def make_folder(self):\n",
    "        \"\"\"Utility to make folders\n",
    "        Args:\n",
    "            folder (string): name of folder\n",
    "        Returns:\n",
    "            string: path to folder\n",
    "        \"\"\"\n",
    "        self.folder = self.filename.split('.')[0]\n",
    "        \n",
    "        # Makes folder\n",
    "        os.makedirs(self.folder, exist_ok=True)\n",
    "\n",
    "        return self.folder"
   ]
  },
  {
   "cell_type": "code",
   "execution_count": 15,
   "metadata": {},
   "outputs": [],
   "source": [
    "class EELS_To_DataFed(file_handling):\n",
    "    def __init__(self, filename):\n",
    "        super().__init__()\n",
    "        self.filename = filename\n",
    "        self.make_folder()\n",
    "        \n",
    "    def unzip(self):\n",
    "        Archive(self.filename).extractall(self.folder)\n",
    "        \n",
    "    def extract_metadata(self):\n",
    "        self.metadata = np.load(self.folder + '\\meta_data.npy', allow_pickle=True)[0]\n",
    "        self.data_model = np.load(self.folder + '\\data_model.npy', allow_pickle=True)[0]\n",
    "        self.metadata = self.data_model | self.metadata\n",
    "        \n",
    "    \n",
    "        "
   ]
  },
  {
   "cell_type": "code",
   "execution_count": 16,
   "metadata": {},
   "outputs": [
    {
     "ename": "NameError",
     "evalue": "name 'loader' is not defined",
     "output_type": "error",
     "traceback": [
      "\u001b[1;31m---------------------------------------------------------------------------\u001b[0m",
      "\u001b[1;31mNameError\u001b[0m                                 Traceback (most recent call last)",
      "Cell \u001b[1;32mIn [16], line 1\u001b[0m\n\u001b[1;32m----> 1\u001b[0m os\u001b[39m.\u001b[39mmakedirs(loader\u001b[39m.\u001b[39mfilename\u001b[39m.\u001b[39msplit(\u001b[39m'\u001b[39m\u001b[39m.\u001b[39m\u001b[39m'\u001b[39m)[\u001b[39m0\u001b[39m], exist_ok\u001b[39m=\u001b[39m\u001b[39mTrue\u001b[39;00m)\n",
      "\u001b[1;31mNameError\u001b[0m: name 'loader' is not defined"
     ]
    }
   ],
   "source": [
    "os.makedirs(loader.filename.split('.')[0], exist_ok=True)"
   ]
  },
  {
   "cell_type": "code",
   "execution_count": 19,
   "metadata": {},
   "outputs": [
    {
     "name": "stdout",
     "output_type": "stream",
     "text": [
      "DataFiles\\ELA\n"
     ]
    }
   ],
   "source": [
    "loader.filename\n",
    "print(loader.folder)"
   ]
  },
  {
   "cell_type": "code",
   "execution_count": 18,
   "metadata": {},
   "outputs": [],
   "source": [
    "loader = EELS_To_DataFed(\"DataFiles\\ELA.prz\")\n",
    "loader.unzip()\n",
    "loader.extract_metadata()"
   ]
  },
  {
   "cell_type": "code",
   "execution_count": 151,
   "metadata": {},
   "outputs": [],
   "source": [
    "# Import packages\n",
    "\n",
    "import os\n",
    "import getpass\n",
    "import subprocess\n",
    "from platform import platform\n",
    "import sys\n"
   ]
  },
  {
   "cell_type": "code",
   "execution_count": 20,
   "metadata": {},
   "outputs": [
    {
     "name": "stdout",
     "output_type": "stream",
     "text": [
      "Success! You have DataFed: 1.4.0:0\n"
     ]
    }
   ],
   "source": [
    "try:\n",
    "\n",
    "    # This package is not part of anaconda and may need to be installed.\n",
    "    from datafed.CommandLib import API\n",
    "\n",
    "except ImportError:\n",
    "    print(\"datafed not found. Installing from pip.\")\n",
    "    subprocess.call([sys.executable, \"-m\", \"pip\", \"install\", \"datafed\"])\n",
    "    from datafed.CommandLib import API\n",
    "\n",
    "from datafed import version as df_ver\n",
    "\n",
    "if not df_ver.startswith(\"1.4\"):\n",
    "    print(\"Attempting to update DataFed.\")\n",
    "    subprocess.call([sys.executable, \"-m\", \"pip\", \"install\", \"--upgrade\", \"datafed\"])\n",
    "    print(\n",
    "        \"Please restart the python kernel or upgrade manually to V 1.1.0:1 if you are repeatedly seeing this message via\"\n",
    "        \"\\n\\tpip install --upgrade datafed\"\n",
    "    )\n",
    "else:\n",
    "    df_api = API()\n",
    "    print(\"Success! You have DataFed: \" + df_ver)"
   ]
  },
  {
   "cell_type": "code",
   "execution_count": 21,
   "metadata": {},
   "outputs": [],
   "source": [
    "from datafed.CommandLib import API\n",
    "import json"
   ]
  },
  {
   "cell_type": "code",
   "execution_count": 22,
   "metadata": {},
   "outputs": [],
   "source": [
    "df_api = API()"
   ]
  },
  {
   "cell_type": "code",
   "execution_count": 23,
   "metadata": {},
   "outputs": [
    {
     "name": "stdout",
     "output_type": "stream",
     "text": [
      "(item {\n",
      "  id: \"p/2021_berkeley_pfm_database\"\n",
      "  title: \"2021_Berkeley_PFM_Database\"\n",
      "  owner: \"u/jca318\"\n",
      "}\n",
      "item {\n",
      "  id: \"p/2021_lane_martin_afm_database\"\n",
      "  title: \"2021_Lane_Martin_AFM_Database\"\n",
      "  owner: \"u/jca318\"\n",
      "}\n",
      "item {\n",
      "  id: \"p/2021_lehigh_cornell_tem\"\n",
      "  title: \"2021_Lehigh_Cornell_TEM\"\n",
      "  owner: \"u/jca318\"\n",
      "}\n",
      "item {\n",
      "  id: \"p/2021_lehigh_wallpaper_group_symmetry\"\n",
      "  title: \"2021_Lehigh_Wallpaper_Group_Symmetry\"\n",
      "  owner: \"u/jca318\"\n",
      "}\n",
      "item {\n",
      "  id: \"p/2022_4dtem_noisy_benchmark\"\n",
      "  title: \"2022_TEM_Noisy_Benchmark\"\n",
      "  owner: \"u/jca318\"\n",
      "}\n",
      "item {\n",
      "  id: \"p/2022_afm_oxford\"\n",
      "  title: \"AFM Repository Oxford Instruments\"\n",
      "  owner: \"u/jca318\"\n",
      "}\n",
      "item {\n",
      "  id: \"p/2022_datafed_tutorial_lehigh\"\n",
      "  title: \"2022_DataFed_Tutorial_Lehigh\"\n",
      "  owner: \"u/jca318\"\n",
      "}\n",
      "item {\n",
      "  id: \"p/2022_materials_project\"\n",
      "  title: \"Materials Project Piezoresponse\"\n",
      "  owner: \"u/jca318\"\n",
      "}\n",
      "item {\n",
      "  id: \"p/2022_pld_plume_recording\"\n",
      "  title: \"2022_PLD_Plume_Recording\"\n",
      "  owner: \"u/yig319\"\n",
      "  creator: \"u/jca318\"\n",
      "}\n",
      "item {\n",
      "  id: \"p/delete\"\n",
      "  title: \"delete\"\n",
      "  owner: \"u/jca318\"\n",
      "}\n",
      "item {\n",
      "  id: \"p/lehigh_2021_band_excitation_pfm\"\n",
      "  title: \"Band_Excitation_Piezoresponse_Force_Microscopy\"\n",
      "  owner: \"u/jca318\"\n",
      "}\n",
      "item {\n",
      "  id: \"p/lehigh_queens_university_belfast_2021\"\n",
      "  title: \"2021_4D_TEM_needles\"\n",
      "  owner: \"u/jca318\"\n",
      "}\n",
      "item {\n",
      "  id: \"p/lehigh.cellsorter.2021\"\n",
      "  title: \"Cell Sorter Project\"\n",
      "  owner: \"u/jca318\"\n",
      "}\n",
      "item {\n",
      "  id: \"p/lehigh.test\"\n",
      "  title: \"Lehigh Test Project\"\n",
      "  owner: \"u/stansberrydv\"\n",
      "}\n",
      "item {\n",
      "  id: \"p/lhead\"\n",
      "  title: \"LHEAD Central Data\"\n",
      "  owner: \"u/brianchen\"\n",
      "  creator: \"u/jca318\"\n",
      "}\n",
      "item {\n",
      "  id: \"p/trn001\"\n",
      "  title: \"TRN001 : DataFed Training\"\n",
      "  owner: \"u/somnaths\"\n",
      "}\n",
      "offset: 0\n",
      "count: 20\n",
      "total: 16\n",
      ", 'ListingReply')\n"
     ]
    }
   ],
   "source": [
    "pl_resp = df_api.projectList()\n",
    "print(pl_resp)"
   ]
  },
  {
   "cell_type": "code",
   "execution_count": 24,
   "metadata": {},
   "outputs": [
    {
     "name": "stdout",
     "output_type": "stream",
     "text": [
      "(coll {\n",
      "  id: \"c/p_lhead_root\"\n",
      "  title: \"Root Collection\"\n",
      "  alias: \"root\"\n",
      "  desc: \"Root collection for project lhead\"\n",
      "  owner: \"p/lhead\"\n",
      "  notes: 0\n",
      "}\n",
      ", 'CollDataReply')\n"
     ]
    }
   ],
   "source": [
    "context = \"p/lhead\"\n",
    "\n",
    "print(df_api.collectionView(\"root\", context=context))"
   ]
  },
  {
   "cell_type": "code",
   "execution_count": 25,
   "metadata": {},
   "outputs": [
    {
     "data": {
      "text/plain": [
       "dict_keys(['objects', 'active', 'id', 'is_group', 'view_state', 'type', 'camera.binning', 'camera.pixel_size', 'camera.time', 'camera.exposure_time', 'image_size', 'camera.detector_size', 'camera.area_offset', 'source.name', 'source.type', 'ref_size', 'source.last_frame_info', 'source.detector_config', 'source.geometry', 'electron_gun.voltage', 'electron_gun.voltage_offset', 'condenser.mode', 'objective.mode', 'projector.camera_length', 'projector.mode', 'scan_driver.magnification', 'scan_driver.magnification_reference', 'filter.zlp_xpos', 'filter.dispersion', 'filter.spectrum_height', 'filter.mode', 'filter.aperture', 'filter.energy_offset', 'filter.ht_offset', 'filter.lt_voltage', 'filter.sector_offset', 'filter.slit.mode', 'camera.magnification_factor', 'camera.camera_length_factor', 'repo_id', 'device.calib'])"
      ]
     },
     "execution_count": 25,
     "metadata": {},
     "output_type": "execute_result"
    }
   ],
   "source": [
    "loader.metadata.keys()"
   ]
  },
  {
   "cell_type": "code",
   "execution_count": 26,
   "metadata": {},
   "outputs": [],
   "source": [
    "parent_collection = \"c/416330538\"\n",
    "\n",
    "dc_resp = df_api.dataCreate(\n",
    "    \"my important data\",\n",
    "    metadata=json.dumps(loader.metadata),\n",
    "    parent_id=parent_collection,\n",
    "    # The parent collection, whose alias is your username\n",
    ")"
   ]
  },
  {
   "cell_type": "code",
   "execution_count": 27,
   "metadata": {},
   "outputs": [
    {
     "name": "stdout",
     "output_type": "stream",
     "text": [
      "\n"
     ]
    }
   ],
   "source": [
    "print()"
   ]
  },
  {
   "cell_type": "code",
   "execution_count": 28,
   "metadata": {},
   "outputs": [
    {
     "name": "stdout",
     "output_type": "stream",
     "text": [
      "(task {\n",
      "  id: \"task/416358991\"\n",
      "  type: TT_DATA_PUT\n",
      "  status: TS_SUCCEEDED\n",
      "  client: \"u/jca318\"\n",
      "  step: 3\n",
      "  steps: 4\n",
      "  msg: \"Finished\"\n",
      "  ct: 1670983146\n",
      "  ut: 1670983160\n",
      "  source: \"f134f91a-572a-11ed-ba55-d5fb255a47cc/c/Users/jca92/Documents/codes/TEM_Transfer/TEM_Transfer/DataFiles/ELA.prz\"\n",
      "  dest: \"d/416358985\"\n",
      "}\n",
      ", 'TaskDataReply')\n"
     ]
    }
   ],
   "source": [
    "record_id = dc_resp[0].data[0].id\n",
    "\n",
    "put_resp = df_api.dataPut(\n",
    "    record_id,\n",
    "    loader.filename,\n",
    "    wait=True,  # Waits until transfer completes.\n",
    ")\n",
    "print(put_resp)"
   ]
  },
  {
   "cell_type": "code",
   "execution_count": null,
   "metadata": {},
   "outputs": [],
   "source": []
  }
 ],
 "metadata": {
  "kernelspec": {
   "display_name": "tem_transfer_",
   "language": "python",
   "name": "python3"
  },
  "language_info": {
   "codemirror_mode": {
    "name": "ipython",
    "version": 3
   },
   "file_extension": ".py",
   "mimetype": "text/x-python",
   "name": "python",
   "nbconvert_exporter": "python",
   "pygments_lexer": "ipython3",
   "version": "3.10.8"
  },
  "orig_nbformat": 4,
  "vscode": {
   "interpreter": {
    "hash": "2230a3bd30b43cf3c7d42bb2d239ea9c65dbb3c8dc85878b6c83c4a470af5b5f"
   }
  }
 },
 "nbformat": 4,
 "nbformat_minor": 2
}
